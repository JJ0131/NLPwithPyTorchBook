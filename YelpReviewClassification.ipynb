{
  "nbformat": 4,
  "nbformat_minor": 0,
  "metadata": {
    "colab": {
      "name": "YelpReviewClassification.ipynb",
      "provenance": [],
      "collapsed_sections": [],
      "machine_shape": "hm",
      "include_colab_link": true
    },
    "kernelspec": {
      "name": "python3",
      "display_name": "Python 3"
    }
  },
  "cells": [
    {
      "cell_type": "markdown",
      "metadata": {
        "id": "view-in-github",
        "colab_type": "text"
      },
      "source": [
        "<a href=\"https://colab.research.google.com/github/JJnotJimmyJohn/NLPwithPyTorchBook/blob/master/YelpReviewClassification.ipynb\" target=\"_parent\"><img src=\"https://colab.research.google.com/assets/colab-badge.svg\" alt=\"Open In Colab\"/></a>"
      ]
    },
    {
      "cell_type": "markdown",
      "metadata": {
        "id": "FIHIclIZYitJ",
        "colab_type": "text"
      },
      "source": [
        "# An Example: Classifying Sentiment of Restaurant Reviews"
      ]
    },
    {
      "cell_type": "code",
      "metadata": {
        "id": "JWDkKsBNdm_Q",
        "colab_type": "code",
        "colab": {
          "base_uri": "https://localhost:8080/",
          "height": 122
        },
        "outputId": "5c1d2753-4b88-4728-fe01-0a6de6d5e2ae"
      },
      "source": [
        "from google.colab import drive\n",
        "drive.mount('/content/drive')"
      ],
      "execution_count": null,
      "outputs": [
        {
          "output_type": "stream",
          "text": [
            "Go to this URL in a browser: https://accounts.google.com/o/oauth2/auth?client_id=947318989803-6bn6qk8qdgf4n4g3pfee6491hc0brc4i.apps.googleusercontent.com&redirect_uri=urn%3aietf%3awg%3aoauth%3a2.0%3aoob&response_type=code&scope=email%20https%3a%2f%2fwww.googleapis.com%2fauth%2fdocs.test%20https%3a%2f%2fwww.googleapis.com%2fauth%2fdrive%20https%3a%2f%2fwww.googleapis.com%2fauth%2fdrive.photos.readonly%20https%3a%2f%2fwww.googleapis.com%2fauth%2fpeopleapi.readonly\n",
            "\n",
            "Enter your authorization code:\n",
            "··········\n",
            "Mounted at /content/drive\n"
          ],
          "name": "stdout"
        }
      ]
    },
    {
      "cell_type": "code",
      "metadata": {
        "id": "zolRwxZ3Xc8Z",
        "colab_type": "code",
        "colab": {}
      },
      "source": [
        "import collections\n",
        "import numpy as np\n",
        "import pandas as pd\n",
        "import re\n",
        "import torch\n",
        "import torch.nn as nn\n",
        "\n",
        "from argparse import Namespace"
      ],
      "execution_count": null,
      "outputs": []
    },
    {
      "cell_type": "code",
      "metadata": {
        "id": "s358nXgwXdCC",
        "colab_type": "code",
        "colab": {}
      },
      "source": [
        "args = Namespace(\n",
        "    raw_train_dataset_csv=r\"drive/My Drive/yelp/raw_train.csv\",\n",
        "    raw_test_dataset_csv=r\"drive/My Drive/yelp/raw_test.csv\",\n",
        "    proportion_subset_of_train=0.1,\n",
        "    train_proportion=0.7,\n",
        "    val_proportion=0.15,\n",
        "    test_proportion=0.15,\n",
        "    output_munged_csv=r\"drive/My Drive/yelp/reviews_with_splits_lite.csv\",\n",
        "    seed=1337\n",
        ")"
      ],
      "execution_count": null,
      "outputs": []
    },
    {
      "cell_type": "code",
      "metadata": {
        "id": "5aVBoLlGevIW",
        "colab_type": "code",
        "colab": {
          "base_uri": "https://localhost:8080/",
          "height": 204
        },
        "outputId": "8a123912-1500-45c6-8160-f7b7294e7d35"
      },
      "source": [
        "train_reviews = pd.read_csv(args.raw_train_dataset_csv,names = ['rating','review'])\n",
        "train_reviews.head()"
      ],
      "execution_count": null,
      "outputs": [
        {
          "output_type": "execute_result",
          "data": {
            "text/html": [
              "<div>\n",
              "<style scoped>\n",
              "    .dataframe tbody tr th:only-of-type {\n",
              "        vertical-align: middle;\n",
              "    }\n",
              "\n",
              "    .dataframe tbody tr th {\n",
              "        vertical-align: top;\n",
              "    }\n",
              "\n",
              "    .dataframe thead th {\n",
              "        text-align: right;\n",
              "    }\n",
              "</style>\n",
              "<table border=\"1\" class=\"dataframe\">\n",
              "  <thead>\n",
              "    <tr style=\"text-align: right;\">\n",
              "      <th></th>\n",
              "      <th>rating</th>\n",
              "      <th>review</th>\n",
              "    </tr>\n",
              "  </thead>\n",
              "  <tbody>\n",
              "    <tr>\n",
              "      <th>0</th>\n",
              "      <td>1</td>\n",
              "      <td>Unfortunately, the frustration of being Dr. Go...</td>\n",
              "    </tr>\n",
              "    <tr>\n",
              "      <th>1</th>\n",
              "      <td>2</td>\n",
              "      <td>Been going to Dr. Goldberg for over 10 years. ...</td>\n",
              "    </tr>\n",
              "    <tr>\n",
              "      <th>2</th>\n",
              "      <td>1</td>\n",
              "      <td>I don't know what Dr. Goldberg was like before...</td>\n",
              "    </tr>\n",
              "    <tr>\n",
              "      <th>3</th>\n",
              "      <td>1</td>\n",
              "      <td>I'm writing this review to give you a heads up...</td>\n",
              "    </tr>\n",
              "    <tr>\n",
              "      <th>4</th>\n",
              "      <td>2</td>\n",
              "      <td>All the food is great here. But the best thing...</td>\n",
              "    </tr>\n",
              "  </tbody>\n",
              "</table>\n",
              "</div>"
            ],
            "text/plain": [
              "   rating                                             review\n",
              "0       1  Unfortunately, the frustration of being Dr. Go...\n",
              "1       2  Been going to Dr. Goldberg for over 10 years. ...\n",
              "2       1  I don't know what Dr. Goldberg was like before...\n",
              "3       1  I'm writing this review to give you a heads up...\n",
              "4       2  All the food is great here. But the best thing..."
            ]
          },
          "metadata": {
            "tags": []
          },
          "execution_count": 5
        }
      ]
    },
    {
      "cell_type": "code",
      "metadata": {
        "id": "1ZtrM-PeXdgF",
        "colab_type": "code",
        "colab": {
          "base_uri": "https://localhost:8080/",
          "height": 136
        },
        "outputId": "4299c192-e114-404f-dabf-43e48283a9ae"
      },
      "source": [
        "train_reviews.info()"
      ],
      "execution_count": null,
      "outputs": [
        {
          "output_type": "stream",
          "text": [
            "<class 'pandas.core.frame.DataFrame'>\n",
            "RangeIndex: 560000 entries, 0 to 559999\n",
            "Data columns (total 2 columns):\n",
            "rating    560000 non-null int64\n",
            "review    560000 non-null object\n",
            "dtypes: int64(1), object(1)\n",
            "memory usage: 8.5+ MB\n"
          ],
          "name": "stdout"
        }
      ]
    },
    {
      "cell_type": "code",
      "metadata": {
        "id": "E-oZu7mQU21U",
        "colab_type": "code",
        "colab": {
          "base_uri": "https://localhost:8080/",
          "height": 68
        },
        "outputId": "206ebaac-973f-42c1-8c72-2e90f1f9f765"
      },
      "source": [
        "train_reviews.rating.value_counts()"
      ],
      "execution_count": null,
      "outputs": [
        {
          "output_type": "execute_result",
          "data": {
            "text/plain": [
              "2    280000\n",
              "1    280000\n",
              "Name: rating, dtype: int64"
            ]
          },
          "metadata": {
            "tags": []
          },
          "execution_count": 7
        }
      ]
    },
    {
      "cell_type": "markdown",
      "metadata": {
        "id": "jZMqybC6ezsY",
        "colab_type": "text"
      },
      "source": [
        "# My version of subsetting Start"
      ]
    },
    {
      "cell_type": "code",
      "metadata": {
        "id": "obR7OkGfhduZ",
        "colab_type": "code",
        "colab": {}
      },
      "source": [
        "negative_index = train_reviews.query('rating==1').index\n",
        "negative_index\n",
        "np.random.seed(args.seed)\n",
        "negative_index = train_reviews.query('rating==1').index.to_list()\n",
        "positive_index = train_reviews.query('rating==2').index.to_list()\n",
        "\n",
        "negative_subset_size = int(len(negative_index)*args.proportion_subset_of_train)\n",
        "negative_train_size = int(negative_subset_size * args.train_proportion)\n",
        "negative_val_size = int(negative_subset_size*args.val_proportion)\n",
        "negative_test_size = int(negative_subset_size*args.test_proportion)\n",
        "\n",
        "positive_subset_size = int(len(positive_index)*args.proportion_subset_of_train)\n",
        "positive_train_size = int(positive_subset_size * args.train_proportion)\n",
        "positive_val_size = int(positive_subset_size*args.val_proportion)\n",
        "positive_test_size = int(positive_subset_size*args.test_proportion)\n",
        "\n",
        "\n",
        "negative_subset_index = list(np.random.choice(negative_index,negative_subset_size))\n",
        "positive_subset_index = list(np.random.choice(positive_index,positive_subset_size))\n",
        "\n",
        "\n",
        "negative_train_index = list(negative_subset_index[:negative_train_size])\n",
        "negative_val_index = list(negative_subset_index[negative_train_size:negative_train_size+negative_val_size])\n",
        "negative_test_index = list(negative_subset_index[negative_train_size+negative_val_size:])\n",
        "\n",
        "positive_train_index =  list(positive_subset_index[:positive_train_size])\n",
        "positive_val_index =    list(positive_subset_index[positive_train_size:positive_train_size+positive_val_size])\n",
        "positive_test_index =   list(positive_subset_index[positive_train_size+positive_val_size:])\n",
        "\n",
        "train_subset = train_reviews.iloc[negative_train_index+positive_train_index].copy()\n",
        "val_subset = train_reviews.iloc[negative_val_index+positive_val_index].copy()\n",
        "test_subset = train_reviews.iloc[negative_test_index+positive_test_index].copy()"
      ],
      "execution_count": null,
      "outputs": []
    },
    {
      "cell_type": "code",
      "metadata": {
        "id": "PrBjYlUyqEcf",
        "colab_type": "code",
        "colab": {
          "base_uri": "https://localhost:8080/",
          "height": 68
        },
        "outputId": "30d656c2-0826-441a-fa5c-01f362a19b82"
      },
      "source": [
        "print(len(train_subset),args.train_proportion)\n",
        "print(len(val_subset),args.val_proportion)\n",
        "print(len(test_subset),args.test_proportion)"
      ],
      "execution_count": null,
      "outputs": [
        {
          "output_type": "stream",
          "text": [
            "39200 0.7\n",
            "8400 0.15\n",
            "8400 0.15\n"
          ],
          "name": "stdout"
        }
      ]
    },
    {
      "cell_type": "markdown",
      "metadata": {
        "id": "g9tekKyGe1QA",
        "colab_type": "text"
      },
      "source": [
        "# Author's version of subsetting (which sucks and is obscure)"
      ]
    },
    {
      "cell_type": "markdown",
      "metadata": {
        "id": "t7CI6OEsVc3_",
        "colab_type": "text"
      },
      "source": [
        "##### Take 1/10 as the Subset of the Big Dataset"
      ]
    },
    {
      "cell_type": "code",
      "metadata": {
        "id": "0NN_-C94XdGk",
        "colab_type": "code",
        "colab": {}
      },
      "source": [
        "# Put the dataframe into a dictionary, using rating as the key\n",
        "by_rating = collections.defaultdict(list)\n",
        "for _, row in train_reviews.iterrows():\n",
        "  by_rating[row.rating].append(row.to_dict())"
      ],
      "execution_count": null,
      "outputs": []
    },
    {
      "cell_type": "code",
      "metadata": {
        "id": "qOeaKQf6mzP_",
        "colab_type": "code",
        "colab": {
          "base_uri": "https://localhost:8080/",
          "height": 71
        },
        "outputId": "d2894789-d610-465d-c545-86d07e0420a0"
      },
      "source": [
        "for x in by_rating:\n",
        "  print(by_rating[x][:2])"
      ],
      "execution_count": null,
      "outputs": [
        {
          "output_type": "stream",
          "text": [
            "[{'rating': 1, 'review': \"Unfortunately, the frustration of being Dr. Goldberg's patient is a repeat of the experience I've had with so many other doctors in NYC -- good doctor, terrible staff.  It seems that his staff simply never answers the phone.  It usually takes 2 hours of repeated calling to get an answer.  Who has time for that or wants to deal with it?  I have run into this problem with many other doctors and I just don't get it.  You have office workers, you have patients with medical needs, why isn't anyone answering the phone?  It's incomprehensible and not work the aggravation.  It's with regret that I feel that I have to give Dr. Goldberg 2 stars.\"}, {'rating': 1, 'review': \"I don't know what Dr. Goldberg was like before  moving to Arizona, but let me tell you, STAY AWAY from this doctor and this office. I was going to Dr. Johnson before he left and Goldberg took over when Johnson left. He is not a caring doctor. He is only interested in the co-pay and having you come in for medication refills every month. He will not give refills and could less about patients's financial situations. Trying to get your 90 days mail away pharmacy prescriptions through this guy is a joke. And to make matters even worse, his office staff is incompetent. 90% of the time when you call the office, they'll put you through to a voice mail, that NO ONE ever answers or returns your call. Both my adult children and husband have decided to leave this practice after experiencing such frustration. The entire office has an attitude like they are doing you a favor. Give me a break! Stay away from this doc and the practice. You deserve better and they will not be there when you really need them. I have never felt compelled to write a bad review about anyone until I met this pathetic excuse for a doctor who is all about the money.\"}]\n",
            "[{'rating': 2, 'review': \"Been going to Dr. Goldberg for over 10 years. I think I was one of his 1st patients when he started at MHMG. He's been great over the years and is really all about the big picture. It is because of him, not my now former gyn Dr. Markoff, that I found out I have fibroids. He explores all options with you and is very patient and understanding. He doesn't judge and asks all the right questions. Very thorough and wants to be kept in the loop on every aspect of your medical health and your life.\"}, {'rating': 2, 'review': 'All the food is great here. But the best thing they have is their wings. Their wings are simply fantastic!!  The \\\\\"Wet Cajun\\\\\" are by the best & most popular.  I also like the seasoned salt wings.  Wing Night is Monday & Wednesday night, $0.75 whole wings!\\\\n\\\\nThe dining area is nice. Very family friendly! The bar is very nice is well.  This place is truly a Yinzer\\'s dream!!  \\\\\"Pittsburgh Dad\\\\\" would love this place n\\'at!!'}]\n"
          ],
          "name": "stdout"
        }
      ]
    },
    {
      "cell_type": "markdown",
      "metadata": {
        "id": "XAMSrLRkYmV2",
        "colab_type": "text"
      },
      "source": [
        "##### dict.items() example"
      ]
    },
    {
      "cell_type": "code",
      "metadata": {
        "id": "zh3vAQ0FmzND",
        "colab_type": "code",
        "colab": {}
      },
      "source": [
        "_ = {'1':[1,2,3,4],'2':[2,4,6,8],'3':[3,6,9,12]}\n",
        "for key,values in _.items():\n",
        "  print(key)\n",
        "  print(values)"
      ],
      "execution_count": null,
      "outputs": []
    },
    {
      "cell_type": "markdown",
      "metadata": {
        "id": "weD2drNnmzGj",
        "colab_type": "text"
      },
      "source": [
        "##### Take the subset based on propotion paramter"
      ]
    },
    {
      "cell_type": "code",
      "metadata": {
        "id": "SH3s-grtmzCw",
        "colab_type": "code",
        "colab": {}
      },
      "source": [
        "review_subset = []\n",
        "for key, values in by_rating.items():\n",
        "  n_total = len(values)\n",
        "  n_subset = int(n_total * args.proportion_subset_of_train)\n",
        "  review_subset.extend(values[:n_subset])\n",
        "\n",
        "review_subset = pd.DataFrame(review_subset)"
      ],
      "execution_count": null,
      "outputs": []
    },
    {
      "cell_type": "code",
      "metadata": {
        "id": "_mblE9a0my_H",
        "colab_type": "code",
        "colab": {
          "base_uri": "https://localhost:8080/",
          "height": 204
        },
        "outputId": "f36e69cf-7188-4cf3-cd0f-5dad5e55a49a"
      },
      "source": [
        "review_subset.head()"
      ],
      "execution_count": null,
      "outputs": [
        {
          "output_type": "execute_result",
          "data": {
            "text/html": [
              "<div>\n",
              "<style scoped>\n",
              "    .dataframe tbody tr th:only-of-type {\n",
              "        vertical-align: middle;\n",
              "    }\n",
              "\n",
              "    .dataframe tbody tr th {\n",
              "        vertical-align: top;\n",
              "    }\n",
              "\n",
              "    .dataframe thead th {\n",
              "        text-align: right;\n",
              "    }\n",
              "</style>\n",
              "<table border=\"1\" class=\"dataframe\">\n",
              "  <thead>\n",
              "    <tr style=\"text-align: right;\">\n",
              "      <th></th>\n",
              "      <th>rating</th>\n",
              "      <th>review</th>\n",
              "    </tr>\n",
              "  </thead>\n",
              "  <tbody>\n",
              "    <tr>\n",
              "      <th>0</th>\n",
              "      <td>1</td>\n",
              "      <td>Unfortunately, the frustration of being Dr. Go...</td>\n",
              "    </tr>\n",
              "    <tr>\n",
              "      <th>1</th>\n",
              "      <td>1</td>\n",
              "      <td>I don't know what Dr. Goldberg was like before...</td>\n",
              "    </tr>\n",
              "    <tr>\n",
              "      <th>2</th>\n",
              "      <td>1</td>\n",
              "      <td>I'm writing this review to give you a heads up...</td>\n",
              "    </tr>\n",
              "    <tr>\n",
              "      <th>3</th>\n",
              "      <td>1</td>\n",
              "      <td>Wing sauce is like water. Pretty much a lot of...</td>\n",
              "    </tr>\n",
              "    <tr>\n",
              "      <th>4</th>\n",
              "      <td>1</td>\n",
              "      <td>Owning a driving range inside the city limits ...</td>\n",
              "    </tr>\n",
              "  </tbody>\n",
              "</table>\n",
              "</div>"
            ],
            "text/plain": [
              "   rating                                             review\n",
              "0       1  Unfortunately, the frustration of being Dr. Go...\n",
              "1       1  I don't know what Dr. Goldberg was like before...\n",
              "2       1  I'm writing this review to give you a heads up...\n",
              "3       1  Wing sauce is like water. Pretty much a lot of...\n",
              "4       1  Owning a driving range inside the city limits ..."
            ]
          },
          "metadata": {
            "tags": []
          },
          "execution_count": 9
        }
      ]
    },
    {
      "cell_type": "code",
      "metadata": {
        "id": "j8lkZl2Fmy8g",
        "colab_type": "code",
        "colab": {
          "base_uri": "https://localhost:8080/",
          "height": 68
        },
        "outputId": "1407ce4e-76ca-4f9f-d68d-e9fb5cafab68"
      },
      "source": [
        "review_subset.rating.value_counts()"
      ],
      "execution_count": null,
      "outputs": [
        {
          "output_type": "execute_result",
          "data": {
            "text/plain": [
              "2    28000\n",
              "1    28000\n",
              "Name: rating, dtype: int64"
            ]
          },
          "metadata": {
            "tags": []
          },
          "execution_count": 18
        }
      ]
    },
    {
      "cell_type": "markdown",
      "metadata": {
        "id": "slIYA3Fx4fAH",
        "colab_type": "text"
      },
      "source": [
        "##### Build a new dataframe with the subset"
      ]
    },
    {
      "cell_type": "code",
      "metadata": {
        "id": "Bu3AbPrUmy46",
        "colab_type": "code",
        "colab": {}
      },
      "source": [
        "# Splitting the subset by rating to create our new train, val, and test splits\n",
        "by_rating = collections.defaultdict(list)\n",
        "for _, row in review_subset.iterrows():\n",
        "    by_rating[row.rating].append(row.to_dict())"
      ],
      "execution_count": null,
      "outputs": []
    },
    {
      "cell_type": "code",
      "metadata": {
        "id": "nXExCmQYmywU",
        "colab_type": "code",
        "colab": {
          "base_uri": "https://localhost:8080/",
          "height": 105
        },
        "outputId": "90b18bfd-489c-4dd9-9065-442d9d2c0fd6"
      },
      "source": [
        "for key, values in by_rating.items():\n",
        "  print(key)\n",
        "  print(values[0])"
      ],
      "execution_count": null,
      "outputs": [
        {
          "output_type": "stream",
          "text": [
            "1\n",
            "{'rating': 1, 'review': \"Unfortunately, the frustration of being Dr. Goldberg's patient is a repeat of the experience I've had with so many other doctors in NYC -- good doctor, terrible staff.  It seems that his staff simply never answers the phone.  It usually takes 2 hours of repeated calling to get an answer.  Who has time for that or wants to deal with it?  I have run into this problem with many other doctors and I just don't get it.  You have office workers, you have patients with medical needs, why isn't anyone answering the phone?  It's incomprehensible and not work the aggravation.  It's with regret that I feel that I have to give Dr. Goldberg 2 stars.\"}\n",
            "2\n",
            "{'rating': 2, 'review': \"Been going to Dr. Goldberg for over 10 years. I think I was one of his 1st patients when he started at MHMG. He's been great over the years and is really all about the big picture. It is because of him, not my now former gyn Dr. Markoff, that I found out I have fibroids. He explores all options with you and is very patient and understanding. He doesn't judge and asks all the right questions. Very thorough and wants to be kept in the loop on every aspect of your medical health and your life.\"}\n"
          ],
          "name": "stdout"
        }
      ]
    },
    {
      "cell_type": "code",
      "metadata": {
        "id": "w5l5oUn-mylY",
        "colab_type": "code",
        "colab": {}
      },
      "source": [
        "final_list = []\n",
        "np.random.seed(args.seed)\n",
        "\n",
        "for key, reviews in by_rating.items():\n",
        "  np.random.shuffle(reviews)\n",
        "\n",
        "  n_total = len(reviews)\n",
        "  n_train = int(args.train_proportion*n_total)\n",
        "  n_val   = int(args.val_proportion*n_total)\n",
        "  n_test  = int(args.test_proportion*n_total)\n",
        "\n",
        "  # Give data point a split attribute\n",
        "  for item in reviews[:n_train]:\n",
        "      item['split'] = 'train'\n",
        "  \n",
        "  for item in reviews[n_train:n_train+n_val]:\n",
        "      item['split'] = 'val'\n",
        "      \n",
        "  for item in reviews[n_train+n_val:n_train+n_val+n_test]:\n",
        "      item['split'] = 'test'\n",
        "\n",
        "  # Add to final list\n",
        "  final_list.extend(reviews)\n"
      ],
      "execution_count": null,
      "outputs": []
    },
    {
      "cell_type": "code",
      "metadata": {
        "id": "srqXz4DWmyag",
        "colab_type": "code",
        "colab": {
          "base_uri": "https://localhost:8080/",
          "height": 164
        },
        "outputId": "6f1646df-72c7-428c-f4c1-ba424d9752b4"
      },
      "source": [
        "final_list[:3]"
      ],
      "execution_count": null,
      "outputs": [
        {
          "output_type": "error",
          "ename": "NameError",
          "evalue": "ignored",
          "traceback": [
            "\u001b[0;31m---------------------------------------------------------------------------\u001b[0m",
            "\u001b[0;31mNameError\u001b[0m                                 Traceback (most recent call last)",
            "\u001b[0;32m<ipython-input-1-42adf9bb3a44>\u001b[0m in \u001b[0;36m<module>\u001b[0;34m()\u001b[0m\n\u001b[0;32m----> 1\u001b[0;31m \u001b[0mfinal_list\u001b[0m\u001b[0;34m[\u001b[0m\u001b[0;34m:\u001b[0m\u001b[0;36m3\u001b[0m\u001b[0;34m]\u001b[0m\u001b[0;34m\u001b[0m\u001b[0;34m\u001b[0m\u001b[0m\n\u001b[0m",
            "\u001b[0;31mNameError\u001b[0m: name 'final_list' is not defined"
          ]
        }
      ]
    },
    {
      "cell_type": "code",
      "metadata": {
        "id": "aZQ1zr3d_s12",
        "colab_type": "code",
        "colab": {
          "base_uri": "https://localhost:8080/",
          "height": 85
        },
        "outputId": "b8207384-154a-49bf-8ac9-8434e7fc53e1"
      },
      "source": [
        "# Write split data to file\n",
        "final_reviews = pd.DataFrame(final_list)\n",
        "final_reviews.split.value_counts()"
      ],
      "execution_count": null,
      "outputs": [
        {
          "output_type": "execute_result",
          "data": {
            "text/plain": [
              "train    39200\n",
              "val       8400\n",
              "test      8400\n",
              "Name: split, dtype: int64"
            ]
          },
          "metadata": {
            "tags": []
          },
          "execution_count": 23
        }
      ]
    },
    {
      "cell_type": "code",
      "metadata": {
        "id": "H7huxjEH_s6p",
        "colab_type": "code",
        "colab": {}
      },
      "source": [
        "# Preprocess the reviews\n",
        "def preprocess_text(text):\n",
        "    text = text.lower()\n",
        "    text = re.sub(r\"([.,!?])\", r\" \\1 \", text)\n",
        "    text = re.sub(r\"[^a-zA-Z.,!?]+\", r\" \", text)\n",
        "    return text\n",
        "    \n",
        "final_reviews.review = final_reviews.review.apply(preprocess_text)"
      ],
      "execution_count": null,
      "outputs": []
    },
    {
      "cell_type": "code",
      "metadata": {
        "id": "CJIcef4z6b4p",
        "colab_type": "code",
        "colab": {}
      },
      "source": [
        "final_reviews['rating'] = final_reviews.rating.apply({1: 'negative', 2: 'positive'}.get)"
      ],
      "execution_count": null,
      "outputs": []
    },
    {
      "cell_type": "code",
      "metadata": {
        "id": "fa7YaUQ68gib",
        "colab_type": "code",
        "colab": {
          "base_uri": "https://localhost:8080/",
          "height": 204
        },
        "outputId": "367780a8-e93d-4b32-dd1c-6a762f920e89"
      },
      "source": [
        "final_reviews.head()"
      ],
      "execution_count": null,
      "outputs": [
        {
          "output_type": "execute_result",
          "data": {
            "text/html": [
              "<div>\n",
              "<style scoped>\n",
              "    .dataframe tbody tr th:only-of-type {\n",
              "        vertical-align: middle;\n",
              "    }\n",
              "\n",
              "    .dataframe tbody tr th {\n",
              "        vertical-align: top;\n",
              "    }\n",
              "\n",
              "    .dataframe thead th {\n",
              "        text-align: right;\n",
              "    }\n",
              "</style>\n",
              "<table border=\"1\" class=\"dataframe\">\n",
              "  <thead>\n",
              "    <tr style=\"text-align: right;\">\n",
              "      <th></th>\n",
              "      <th>rating</th>\n",
              "      <th>review</th>\n",
              "      <th>split</th>\n",
              "    </tr>\n",
              "  </thead>\n",
              "  <tbody>\n",
              "    <tr>\n",
              "      <th>0</th>\n",
              "      <td>negative</td>\n",
              "      <td>terrible place to work for i just heard a stor...</td>\n",
              "      <td>train</td>\n",
              "    </tr>\n",
              "    <tr>\n",
              "      <th>1</th>\n",
              "      <td>negative</td>\n",
              "      <td>hours , minutes total time for an extremely s...</td>\n",
              "      <td>train</td>\n",
              "    </tr>\n",
              "    <tr>\n",
              "      <th>2</th>\n",
              "      <td>negative</td>\n",
              "      <td>my less than stellar review is for service . w...</td>\n",
              "      <td>train</td>\n",
              "    </tr>\n",
              "    <tr>\n",
              "      <th>3</th>\n",
              "      <td>negative</td>\n",
              "      <td>i m granting one star because there s no way t...</td>\n",
              "      <td>train</td>\n",
              "    </tr>\n",
              "    <tr>\n",
              "      <th>4</th>\n",
              "      <td>negative</td>\n",
              "      <td>the food here is mediocre at best . i went aft...</td>\n",
              "      <td>train</td>\n",
              "    </tr>\n",
              "  </tbody>\n",
              "</table>\n",
              "</div>"
            ],
            "text/plain": [
              "     rating                                             review  split\n",
              "0  negative  terrible place to work for i just heard a stor...  train\n",
              "1  negative   hours , minutes total time for an extremely s...  train\n",
              "2  negative  my less than stellar review is for service . w...  train\n",
              "3  negative  i m granting one star because there s no way t...  train\n",
              "4  negative  the food here is mediocre at best . i went aft...  train"
            ]
          },
          "metadata": {
            "tags": []
          },
          "execution_count": 31
        }
      ]
    },
    {
      "cell_type": "code",
      "metadata": {
        "id": "fcM4EGxlM1Rm",
        "colab_type": "code",
        "colab": {}
      },
      "source": [
        "final_reviews.to_csv(args.output_munged_csv, index=False)"
      ],
      "execution_count": null,
      "outputs": []
    },
    {
      "cell_type": "markdown",
      "metadata": {
        "id": "WDNfh1ukLsm1",
        "colab_type": "text"
      },
      "source": [
        "# Classification"
      ]
    },
    {
      "cell_type": "code",
      "metadata": {
        "id": "uAHN8PqjIQXE",
        "colab_type": "code",
        "colab": {
          "base_uri": "https://localhost:8080/",
          "height": 122
        },
        "outputId": "41548577-6259-457f-a5a3-5a21930b6aa2"
      },
      "source": [
        "from google.colab import drive\n",
        "drive.mount('/content/drive')"
      ],
      "execution_count": null,
      "outputs": [
        {
          "output_type": "stream",
          "text": [
            "Go to this URL in a browser: https://accounts.google.com/o/oauth2/auth?client_id=947318989803-6bn6qk8qdgf4n4g3pfee6491hc0brc4i.apps.googleusercontent.com&redirect_uri=urn%3aietf%3awg%3aoauth%3a2.0%3aoob&response_type=code&scope=email%20https%3a%2f%2fwww.googleapis.com%2fauth%2fdocs.test%20https%3a%2f%2fwww.googleapis.com%2fauth%2fdrive%20https%3a%2f%2fwww.googleapis.com%2fauth%2fdrive.photos.readonly%20https%3a%2f%2fwww.googleapis.com%2fauth%2fpeopleapi.readonly\n",
            "\n",
            "Enter your authorization code:\n",
            "··········\n",
            "Mounted at /content/drive\n"
          ],
          "name": "stdout"
        }
      ]
    },
    {
      "cell_type": "code",
      "metadata": {
        "id": "2vf5-wBEMSkd",
        "colab_type": "code",
        "colab": {}
      },
      "source": [
        "from argparse import Namespace\n",
        "from collections import Counter\n",
        "import json\n",
        "import os\n",
        "import re\n",
        "import string\n",
        "\n",
        "import numpy as np\n",
        "import pandas as pd\n",
        "import torch\n",
        "import torch.nn as nn\n",
        "import torch.nn.functional as F\n",
        "import torch.optim as optim\n",
        "from torch.utils.data import Dataset, DataLoader\n",
        "from tqdm import tqdm_notebook"
      ],
      "execution_count": null,
      "outputs": []
    },
    {
      "cell_type": "code",
      "metadata": {
        "id": "mDnSdi25ND8u",
        "colab_type": "code",
        "colab": {}
      },
      "source": [
        "args = Namespace(\n",
        "    # Data and Path information\n",
        "    frequency_cutoff=25,\n",
        "    model_state_file='model.pth',\n",
        "    review_csv=\"drive/My Drive/yelp/reviews_with_splits_lite.csv\",\n",
        "    # review_csv='data/yelp/reviews_with_splits_full.csv',\n",
        "    save_dir='model_storage/ch3/yelp/',\n",
        "    vectorizer_file='vectorizer.json',\n",
        "    # No Model hyper parameters\n",
        "    # Training hyper parameters\n",
        "    batch_size=128,\n",
        "    early_stopping_criteria=5,\n",
        "    learning_rate=0.001,\n",
        "    num_epochs=100,\n",
        "    seed=1337,\n",
        "    # Runtime options\n",
        "    catch_keyboard_interrupt=True,\n",
        "    cuda=True,\n",
        "    expand_filepaths_to_save_dir=True,\n",
        "    reload_from_files=False,\n",
        ")"
      ],
      "execution_count": null,
      "outputs": []
    },
    {
      "cell_type": "code",
      "metadata": {
        "id": "8s5lzuQj8gxY",
        "colab_type": "code",
        "colab": {}
      },
      "source": [
        "temp = pd.read_csv(args.review_csv)"
      ],
      "execution_count": null,
      "outputs": []
    },
    {
      "cell_type": "code",
      "metadata": {
        "id": "P1oA05k8S3ym",
        "colab_type": "code",
        "colab": {}
      },
      "source": [
        "temp['rating'] = temp['rating'].map(lambda x: 0 if x=='negative' else 1)"
      ],
      "execution_count": null,
      "outputs": []
    },
    {
      "cell_type": "code",
      "metadata": {
        "id": "okObzMckexgz",
        "colab_type": "code",
        "colab": {
          "base_uri": "https://localhost:8080/",
          "height": 204
        },
        "outputId": "f4f17f9f-f5b8-46ef-b958-3eee59d107dd"
      },
      "source": [
        "temp.head(5)"
      ],
      "execution_count": null,
      "outputs": [
        {
          "output_type": "execute_result",
          "data": {
            "text/html": [
              "<div>\n",
              "<style scoped>\n",
              "    .dataframe tbody tr th:only-of-type {\n",
              "        vertical-align: middle;\n",
              "    }\n",
              "\n",
              "    .dataframe tbody tr th {\n",
              "        vertical-align: top;\n",
              "    }\n",
              "\n",
              "    .dataframe thead th {\n",
              "        text-align: right;\n",
              "    }\n",
              "</style>\n",
              "<table border=\"1\" class=\"dataframe\">\n",
              "  <thead>\n",
              "    <tr style=\"text-align: right;\">\n",
              "      <th></th>\n",
              "      <th>rating</th>\n",
              "      <th>review</th>\n",
              "      <th>split</th>\n",
              "    </tr>\n",
              "  </thead>\n",
              "  <tbody>\n",
              "    <tr>\n",
              "      <th>0</th>\n",
              "      <td>0</td>\n",
              "      <td>terrible place to work for i just heard a stor...</td>\n",
              "      <td>train</td>\n",
              "    </tr>\n",
              "    <tr>\n",
              "      <th>1</th>\n",
              "      <td>0</td>\n",
              "      <td>hours , minutes total time for an extremely s...</td>\n",
              "      <td>train</td>\n",
              "    </tr>\n",
              "    <tr>\n",
              "      <th>2</th>\n",
              "      <td>0</td>\n",
              "      <td>my less than stellar review is for service . w...</td>\n",
              "      <td>train</td>\n",
              "    </tr>\n",
              "    <tr>\n",
              "      <th>3</th>\n",
              "      <td>0</td>\n",
              "      <td>i m granting one star because there s no way t...</td>\n",
              "      <td>train</td>\n",
              "    </tr>\n",
              "    <tr>\n",
              "      <th>4</th>\n",
              "      <td>0</td>\n",
              "      <td>the food here is mediocre at best . i went aft...</td>\n",
              "      <td>train</td>\n",
              "    </tr>\n",
              "  </tbody>\n",
              "</table>\n",
              "</div>"
            ],
            "text/plain": [
              "   rating                                             review  split\n",
              "0       0  terrible place to work for i just heard a stor...  train\n",
              "1       0   hours , minutes total time for an extremely s...  train\n",
              "2       0  my less than stellar review is for service . w...  train\n",
              "3       0  i m granting one star because there s no way t...  train\n",
              "4       0  the food here is mediocre at best . i went aft...  train"
            ]
          },
          "metadata": {
            "tags": []
          },
          "execution_count": 13
        }
      ]
    },
    {
      "cell_type": "code",
      "metadata": {
        "id": "6ZSuSiULSubC",
        "colab_type": "code",
        "colab": {}
      },
      "source": [
        "train_set = temp.query(\"split=='train'\").copy()\n",
        "val_set = temp.query(\"split=='val'\").copy()\n",
        "test_set = temp.query(\"split=='test'\").copy()"
      ],
      "execution_count": null,
      "outputs": []
    },
    {
      "cell_type": "code",
      "metadata": {
        "id": "3JsI4jTeSuqM",
        "colab_type": "code",
        "colab": {
          "base_uri": "https://localhost:8080/",
          "height": 204
        },
        "outputId": "df947a04-20d8-4d5f-c264-290d7339fa01"
      },
      "source": [
        "train_set.head()"
      ],
      "execution_count": null,
      "outputs": [
        {
          "output_type": "execute_result",
          "data": {
            "text/html": [
              "<div>\n",
              "<style scoped>\n",
              "    .dataframe tbody tr th:only-of-type {\n",
              "        vertical-align: middle;\n",
              "    }\n",
              "\n",
              "    .dataframe tbody tr th {\n",
              "        vertical-align: top;\n",
              "    }\n",
              "\n",
              "    .dataframe thead th {\n",
              "        text-align: right;\n",
              "    }\n",
              "</style>\n",
              "<table border=\"1\" class=\"dataframe\">\n",
              "  <thead>\n",
              "    <tr style=\"text-align: right;\">\n",
              "      <th></th>\n",
              "      <th>rating</th>\n",
              "      <th>review</th>\n",
              "      <th>split</th>\n",
              "    </tr>\n",
              "  </thead>\n",
              "  <tbody>\n",
              "    <tr>\n",
              "      <th>0</th>\n",
              "      <td>0</td>\n",
              "      <td>terrible place to work for i just heard a stor...</td>\n",
              "      <td>train</td>\n",
              "    </tr>\n",
              "    <tr>\n",
              "      <th>1</th>\n",
              "      <td>0</td>\n",
              "      <td>hours , minutes total time for an extremely s...</td>\n",
              "      <td>train</td>\n",
              "    </tr>\n",
              "    <tr>\n",
              "      <th>2</th>\n",
              "      <td>0</td>\n",
              "      <td>my less than stellar review is for service . w...</td>\n",
              "      <td>train</td>\n",
              "    </tr>\n",
              "    <tr>\n",
              "      <th>3</th>\n",
              "      <td>0</td>\n",
              "      <td>i m granting one star because there s no way t...</td>\n",
              "      <td>train</td>\n",
              "    </tr>\n",
              "    <tr>\n",
              "      <th>4</th>\n",
              "      <td>0</td>\n",
              "      <td>the food here is mediocre at best . i went aft...</td>\n",
              "      <td>train</td>\n",
              "    </tr>\n",
              "  </tbody>\n",
              "</table>\n",
              "</div>"
            ],
            "text/plain": [
              "   rating                                             review  split\n",
              "0       0  terrible place to work for i just heard a stor...  train\n",
              "1       0   hours , minutes total time for an extremely s...  train\n",
              "2       0  my less than stellar review is for service . w...  train\n",
              "3       0  i m granting one star because there s no way t...  train\n",
              "4       0  the food here is mediocre at best . i went aft...  train"
            ]
          },
          "metadata": {
            "tags": []
          },
          "execution_count": 15
        }
      ]
    },
    {
      "cell_type": "code",
      "metadata": {
        "id": "MdoBqDTcUCYU",
        "colab_type": "code",
        "colab": {
          "base_uri": "https://localhost:8080/",
          "height": 204
        },
        "outputId": "af87a01d-ee19-43e9-8ec1-5faa1768435b"
      },
      "source": [
        "test_set.head()"
      ],
      "execution_count": null,
      "outputs": [
        {
          "output_type": "execute_result",
          "data": {
            "text/html": [
              "<div>\n",
              "<style scoped>\n",
              "    .dataframe tbody tr th:only-of-type {\n",
              "        vertical-align: middle;\n",
              "    }\n",
              "\n",
              "    .dataframe tbody tr th {\n",
              "        vertical-align: top;\n",
              "    }\n",
              "\n",
              "    .dataframe thead th {\n",
              "        text-align: right;\n",
              "    }\n",
              "</style>\n",
              "<table border=\"1\" class=\"dataframe\">\n",
              "  <thead>\n",
              "    <tr style=\"text-align: right;\">\n",
              "      <th></th>\n",
              "      <th>rating</th>\n",
              "      <th>review</th>\n",
              "      <th>split</th>\n",
              "    </tr>\n",
              "  </thead>\n",
              "  <tbody>\n",
              "    <tr>\n",
              "      <th>23800</th>\n",
              "      <td>0</td>\n",
              "      <td>visited last saturday evening and nothing was ...</td>\n",
              "      <td>test</td>\n",
              "    </tr>\n",
              "    <tr>\n",
              "      <th>23801</th>\n",
              "      <td>0</td>\n",
              "      <td>nothing at this location . i would rather go e...</td>\n",
              "      <td>test</td>\n",
              "    </tr>\n",
              "    <tr>\n",
              "      <th>23802</th>\n",
              "      <td>0</td>\n",
              "      <td>this may very well be what passes for good ita...</td>\n",
              "      <td>test</td>\n",
              "    </tr>\n",
              "    <tr>\n",
              "      <th>23803</th>\n",
              "      <td>0</td>\n",
              "      <td>i was about to get new tires but this store wo...</td>\n",
              "      <td>test</td>\n",
              "    </tr>\n",
              "    <tr>\n",
              "      <th>23804</th>\n",
              "      <td>0</td>\n",
              "      <td>the food is usually good and most of the staff...</td>\n",
              "      <td>test</td>\n",
              "    </tr>\n",
              "  </tbody>\n",
              "</table>\n",
              "</div>"
            ],
            "text/plain": [
              "       rating                                             review split\n",
              "23800       0  visited last saturday evening and nothing was ...  test\n",
              "23801       0  nothing at this location . i would rather go e...  test\n",
              "23802       0  this may very well be what passes for good ita...  test\n",
              "23803       0  i was about to get new tires but this store wo...  test\n",
              "23804       0  the food is usually good and most of the staff...  test"
            ]
          },
          "metadata": {
            "tags": []
          },
          "execution_count": 16
        }
      ]
    },
    {
      "cell_type": "markdown",
      "metadata": {
        "id": "aMAEByBcPhli",
        "colab_type": "text"
      },
      "source": [
        "### Make a Dictionary of Tokens"
      ]
    },
    {
      "cell_type": "code",
      "metadata": {
        "id": "cu0-huJYPiAi",
        "colab_type": "code",
        "colab": {
          "base_uri": "https://localhost:8080/",
          "height": 102
        },
        "outputId": "c8fef64d-58a0-4333-fda5-c494e4a10945"
      },
      "source": [
        "# make a dictionary\n",
        "from collections import defaultdict\n",
        "vocabulary_dict = defaultdict(lambda: 0)\n",
        "for indice,row in train_set.iterrows():\n",
        "  for token in row['review'].split(\" \"):\n",
        "    if token not in string.punctuation:\n",
        "      vocabulary_dict[token]+=1\n",
        "\n",
        "for key in list(vocabulary_dict.keys())[:5]:\n",
        "  print(key,' ',vocabulary_dict[key])"
      ],
      "execution_count": null,
      "outputs": [
        {
          "output_type": "stream",
          "text": [
            "terrible   1448\n",
            "place   21439\n",
            "to   129606\n",
            "work   3881\n",
            "for   58446\n"
          ],
          "name": "stdout"
        }
      ]
    },
    {
      "cell_type": "code",
      "metadata": {
        "id": "PgzpTPK6Pika",
        "colab_type": "code",
        "colab": {}
      },
      "source": [
        "# make a lookup for words and index\n",
        "# unknown words's index is 0\n",
        "token_to_idx = defaultdict(lambda : 0)\n",
        "idx_to_token = defaultdict(lambda : 0)\n",
        "\n",
        "# since unknown word is 0, then known words start from 1\n",
        "counter=1\n",
        "for key,value in vocabulary_dict.items():\n",
        "  if value > args.frequency_cutoff:\n",
        "    token_to_idx[key]=counter\n",
        "    idx_to_token[counter] = key\n",
        "    counter+=1"
      ],
      "execution_count": null,
      "outputs": []
    },
    {
      "cell_type": "code",
      "metadata": {
        "id": "OBwctPHJZv_0",
        "colab_type": "code",
        "colab": {
          "base_uri": "https://localhost:8080/",
          "height": 187
        },
        "outputId": "3eade4ef-129f-4889-da48-f65fcb64a01a"
      },
      "source": [
        "for key in list(token_to_idx.keys())[:10]:\n",
        "  print(key,' ',token_to_idx[key])"
      ],
      "execution_count": null,
      "outputs": [
        {
          "output_type": "stream",
          "text": [
            "terrible   1\n",
            "place   2\n",
            "to   3\n",
            "work   4\n",
            "for   5\n",
            "i   6\n",
            "just   7\n",
            "heard   8\n",
            "a   9\n",
            "story   10\n"
          ],
          "name": "stdout"
        }
      ]
    },
    {
      "cell_type": "code",
      "metadata": {
        "id": "VAVwhjXxK9Dn",
        "colab_type": "code",
        "colab": {
          "base_uri": "https://localhost:8080/",
          "height": 187
        },
        "outputId": "ec538fd7-8c35-4ef2-ac07-382038009a03"
      },
      "source": [
        "for key in list(idx_to_token.keys())[:10]:\n",
        "  print(key,' ',idx_to_token[key])"
      ],
      "execution_count": null,
      "outputs": [
        {
          "output_type": "stream",
          "text": [
            "1   terrible\n",
            "2   place\n",
            "3   to\n",
            "4   work\n",
            "5   for\n",
            "6   i\n",
            "7   just\n",
            "8   heard\n",
            "9   a\n",
            "10   story\n"
          ],
          "name": "stdout"
        }
      ]
    },
    {
      "cell_type": "markdown",
      "metadata": {
        "id": "9kTYutXALSXg",
        "colab_type": "text"
      },
      "source": [
        "### Convert sentences into vectors using dictionaries"
      ]
    },
    {
      "cell_type": "code",
      "metadata": {
        "id": "IGbwHqLCMAZR",
        "colab_type": "code",
        "colab": {
          "base_uri": "https://localhost:8080/",
          "height": 34
        },
        "outputId": "ad294911-d4ba-4ee4-c6a3-5329dbcd1ae6"
      },
      "source": [
        "print('Total number of words in the reviews: ', len(vocabulary_dict))"
      ],
      "execution_count": null,
      "outputs": [
        {
          "output_type": "stream",
          "text": [
            "Total number of words in the reviews:  52984\n"
          ],
          "name": "stdout"
        }
      ]
    },
    {
      "cell_type": "code",
      "metadata": {
        "id": "NwaLthgoL2HM",
        "colab_type": "code",
        "colab": {
          "base_uri": "https://localhost:8080/",
          "height": 34
        },
        "outputId": "31e2915b-4acb-4023-9309-b62c2771a745"
      },
      "source": [
        "print('Total number of tokens used: ', len(token_to_idx))"
      ],
      "execution_count": null,
      "outputs": [
        {
          "output_type": "stream",
          "text": [
            "Total number of tokens used:  7325\n"
          ],
          "name": "stdout"
        }
      ]
    },
    {
      "cell_type": "code",
      "metadata": {
        "id": "b94GTF_YPwb5",
        "colab_type": "code",
        "colab": {
          "base_uri": "https://localhost:8080/",
          "height": 34
        },
        "outputId": "13974445-8f79-4ed3-9d00-82be56777e68"
      },
      "source": [
        "token_to_idx['word do not exists']"
      ],
      "execution_count": null,
      "outputs": [
        {
          "output_type": "execute_result",
          "data": {
            "text/plain": [
              "0"
            ]
          },
          "metadata": {
            "tags": []
          },
          "execution_count": 23
        }
      ]
    },
    {
      "cell_type": "markdown",
      "metadata": {
        "id": "rjXVur7fZPuW",
        "colab_type": "text"
      },
      "source": [
        "### Convert Sentences into Vectors"
      ]
    },
    {
      "cell_type": "code",
      "metadata": {
        "id": "k44C0Xm3LSsl",
        "colab_type": "code",
        "colab": {}
      },
      "source": [
        "len_vector = len(token_to_idx)+1\n",
        "train_vectors = []\n",
        "for indice, row in train_set.iterrows():\n",
        "  sent = row.review\n",
        "  vector = [0]*len_vector\n",
        "  for word in sent.split(\" \"):\n",
        "    if word not in string.punctuation:\n",
        "      vector[token_to_idx[word]]=1\n",
        "  # now vector for the sentence is built\n",
        "  train_vectors.append(vector)\n",
        "\n",
        "val_vectors = []\n",
        "for indice, row in val_set.iterrows():\n",
        "  sent = row.review\n",
        "  vector = [0]*len_vector\n",
        "  for word in sent.split(\" \"):\n",
        "    if word not in string.punctuation:\n",
        "      vector[token_to_idx[word]]=1\n",
        "  # now vector for the sentence is built\n",
        "  val_vectors.append(vector)\n",
        "\n",
        "test_vectors = []\n",
        "for indice, row in test_set.iterrows():\n",
        "  sent = row.review\n",
        "  vector = [0]*len_vector\n",
        "  for word in sent.split(\" \"):\n",
        "    if word not in string.punctuation:\n",
        "      vector[token_to_idx[word]]=1\n",
        "  # now vector for the sentence is built\n",
        "  test_vectors.append(vector)"
      ],
      "execution_count": null,
      "outputs": []
    },
    {
      "cell_type": "code",
      "metadata": {
        "id": "h4QRcLlHLS0r",
        "colab_type": "code",
        "colab": {
          "base_uri": "https://localhost:8080/",
          "height": 34
        },
        "outputId": "a061f063-6010-4e7e-a1f4-4fae31788036"
      },
      "source": [
        "print(len(train_vectors),len(val_vectors),len(test_vectors))"
      ],
      "execution_count": null,
      "outputs": [
        {
          "output_type": "stream",
          "text": [
            "39200 8400 8400\n"
          ],
          "name": "stdout"
        }
      ]
    },
    {
      "cell_type": "code",
      "metadata": {
        "id": "YOzxRgS3XVpc",
        "colab_type": "code",
        "colab": {}
      },
      "source": [
        "train_vectors = np.array(train_vectors)\n",
        "val_vectors = np.array(val_vectors)\n",
        "test_vectors = np.array(test_vectors)\n",
        "\n",
        "y_train =train_set.rating.values\n",
        "y_val =val_set.rating.values\n",
        "y_test =test_set.rating.values"
      ],
      "execution_count": null,
      "outputs": []
    },
    {
      "cell_type": "code",
      "metadata": {
        "id": "3r4u_AwrXVjp",
        "colab_type": "code",
        "colab": {
          "base_uri": "https://localhost:8080/",
          "height": 68
        },
        "outputId": "07d6a382-8ad6-464a-bff3-0b50e386fa33"
      },
      "source": [
        "print(train_vectors.shape, y_train.shape)\n",
        "print(val_vectors.shape, y_val.shape)\n",
        "print(test_vectors.shape, y_test.shape)"
      ],
      "execution_count": null,
      "outputs": [
        {
          "output_type": "stream",
          "text": [
            "(39200, 7327) (39200,)\n",
            "(8400, 7327) (8400,)\n",
            "(8400, 7327) (8400,)\n"
          ],
          "name": "stdout"
        }
      ]
    },
    {
      "cell_type": "code",
      "metadata": {
        "id": "G-e7nmrGbXTh",
        "colab_type": "code",
        "colab": {}
      },
      "source": [
        "np.savez('drive/My Drive/yelp/dataset.npz',\n",
        "         train_vectors = np.array(train_vectors),\n",
        "         val_vectors = np.array(val_vectors),\n",
        "         test_vectors = np.array(test_vectors),\n",
        "         y_train =train_set.rating.values,\n",
        "         y_val =val_set.rating.values,\n",
        "         y_test =test_set.rating.values)\n"
      ],
      "execution_count": null,
      "outputs": []
    },
    {
      "cell_type": "markdown",
      "metadata": {
        "id": "WD76vTpEXVdf",
        "colab_type": "text"
      },
      "source": [
        "### Build a Dataset and a Dataloader"
      ]
    },
    {
      "cell_type": "code",
      "metadata": {
        "colab_type": "code",
        "id": "eH4k6aZsuiMc",
        "colab": {
          "base_uri": "https://localhost:8080/",
          "height": 122
        },
        "outputId": "7b1c3b94-8710-4505-8901-4fa650bc6c6c"
      },
      "source": [
        "from google.colab import drive\n",
        "drive.mount('/content/drive')"
      ],
      "execution_count": null,
      "outputs": [
        {
          "output_type": "stream",
          "text": [
            "Go to this URL in a browser: https://accounts.google.com/o/oauth2/auth?client_id=947318989803-6bn6qk8qdgf4n4g3pfee6491hc0brc4i.apps.googleusercontent.com&redirect_uri=urn%3aietf%3awg%3aoauth%3a2.0%3aoob&response_type=code&scope=email%20https%3a%2f%2fwww.googleapis.com%2fauth%2fdocs.test%20https%3a%2f%2fwww.googleapis.com%2fauth%2fdrive%20https%3a%2f%2fwww.googleapis.com%2fauth%2fdrive.photos.readonly%20https%3a%2f%2fwww.googleapis.com%2fauth%2fpeopleapi.readonly\n",
            "\n",
            "Enter your authorization code:\n",
            "··········\n",
            "Mounted at /content/drive\n"
          ],
          "name": "stdout"
        }
      ]
    },
    {
      "cell_type": "code",
      "metadata": {
        "id": "0fdVVSQKx6j9",
        "colab_type": "code",
        "colab": {}
      },
      "source": [
        "from argparse import Namespace\n",
        "from collections import Counter\n",
        "import json\n",
        "import os\n",
        "import re\n",
        "import string\n",
        "\n",
        "import numpy as np\n",
        "import pandas as pd\n",
        "import torch\n",
        "import torch.nn as nn\n",
        "import torch.nn.functional as F\n",
        "import torch.optim as optim\n",
        "from torch.utils.data import Dataset, DataLoader\n",
        "from tqdm import tqdm_notebook"
      ],
      "execution_count": null,
      "outputs": []
    },
    {
      "cell_type": "code",
      "metadata": {
        "id": "7gf3h6u61voG",
        "colab_type": "code",
        "colab": {}
      },
      "source": [
        "def set_seed_everywhere(seed):\n",
        "    np.random.seed(seed)\n",
        "    torch.manual_seed(seed)\n",
        "\n",
        "# R.I.P Kobe\n",
        "set_seed_everywhere(248)"
      ],
      "execution_count": null,
      "outputs": []
    },
    {
      "cell_type": "code",
      "metadata": {
        "id": "WphszIGXXU_D",
        "colab_type": "code",
        "colab": {}
      },
      "source": [
        "class ReviewDataset(Dataset):\n",
        "  \"\"\"Dataset class for the review vectors\"\"\"\n",
        "  def __init__(self,file_path='drive/My Drive/yelp/dataset.npz',partition='train'):\n",
        "    \"\"\"\n",
        "    Args:\n",
        "      file_Path (string): path to the numpy files\n",
        "      partition (string): can be 'train','val','test\n",
        "    \"\"\"\n",
        "    loaded_data = np.load(file_path)\n",
        "    self.X = torch.as_tensor(loaded_data[partition+'_vectors'],\n",
        "                             dtype=torch.float32)\n",
        "    self.y = torch.as_tensor(loaded_data['y_'+partition],\n",
        "                             dtype=torch.float32)\n",
        "\n",
        "  def __len__(self):\n",
        "    return len(self.X)\n",
        "\n",
        "  def __getitem__(self,idx):\n",
        "    sample = {'review':self.X[idx],\n",
        "              'rating':self.y[idx]}\n",
        "\n",
        "    return sample"
      ],
      "execution_count": null,
      "outputs": []
    },
    {
      "cell_type": "code",
      "metadata": {
        "id": "aKqDChgDXUuB",
        "colab_type": "code",
        "colab": {
          "base_uri": "https://localhost:8080/",
          "height": 68
        },
        "outputId": "05595014-8dfb-4d41-c04d-a261d39773f5"
      },
      "source": [
        "# Dataset\n",
        "train_dataset = ReviewDataset(partition='train')\n",
        "val_dataset = ReviewDataset(partition='val')\n",
        "test_dataset = ReviewDataset(partition='test')\n",
        "print(len(train_dataset))\n",
        "print(len(val_dataset))\n",
        "print(len(test_dataset))"
      ],
      "execution_count": null,
      "outputs": [
        {
          "output_type": "stream",
          "text": [
            "39200\n",
            "8400\n",
            "8400\n"
          ],
          "name": "stdout"
        }
      ]
    },
    {
      "cell_type": "code",
      "metadata": {
        "id": "y5kWTsDbShln",
        "colab_type": "code",
        "colab": {}
      },
      "source": [
        "# Dataloader\n",
        "train_loader=DataLoader(train_dataset,batch_size=1024,shuffle=True)\n",
        "# val_loader=DataLoader(val_dataset,batch_size=1024,shuffle=True)\n",
        "# test_loader=DataLoader(test_dataset,batch_size=1024,shuffle=True)\n",
        "\n",
        "# for i_batch, samples_batched in enumerate(train_loader):\n",
        "#   if i_batch==2000:\n",
        "#     print(samples_batched['rating'])\n",
        "#     print(samples_batched['review'].shape)"
      ],
      "execution_count": null,
      "outputs": []
    },
    {
      "cell_type": "markdown",
      "metadata": {
        "id": "hTtvJkBSShyK",
        "colab_type": "text"
      },
      "source": [
        "### Build the Classifier"
      ]
    },
    {
      "cell_type": "code",
      "metadata": {
        "id": "WC4iSBRsABUG",
        "colab_type": "code",
        "colab": {
          "base_uri": "https://localhost:8080/",
          "height": 34
        },
        "outputId": "2bbcae95-24a4-4a09-f591-528fd78367ab"
      },
      "source": [
        "train_dataset.X[0].size()[0]"
      ],
      "execution_count": null,
      "outputs": [
        {
          "output_type": "execute_result",
          "data": {
            "text/plain": [
              "7327"
            ]
          },
          "metadata": {
            "tags": []
          },
          "execution_count": 7
        }
      ]
    },
    {
      "cell_type": "code",
      "metadata": {
        "id": "XdO7eoUZSh4X",
        "colab_type": "code",
        "colab": {}
      },
      "source": [
        "class ReviewClassifier(nn.Module):\n",
        "  \"\"\" A simple Perceptron classifier\"\"\"\n",
        "  # In this case the output_size will be 1 and we don't need softmax\n",
        "  def __init__(self,input_size,output_size=1):\n",
        "    super(ReviewClassifier, self).__init__()\n",
        "    self.input_size = input_size\n",
        "    self.output_size = output_size\n",
        "    self.fc1 = nn.modules.Linear(self.input_size,self.output_size)\n",
        "  \n",
        "  def forward(self,input,apply_sigmoid=False):\n",
        "    \"\"\"The forward path of the neural network\n",
        "\n",
        "    Args:\n",
        "      x_in (torch.Tensor): an input data tensor. \n",
        "      x_in.shape should be (batch, input_size)\n",
        "      apply_sigmoid (bool): a flag for the sigmoid activation\n",
        "        would be false since we are using the Cross Entropy losses\n",
        "    Returns:\n",
        "      the resulting tensor. tensor.shape should be (batch,)\n",
        "\n",
        "    \"\"\"\n",
        "    # output will be a tensor of size [1] while target is of size []\n",
        "    # we must have tensors of same size to calculate loss\n",
        "    # so we need to squeeze the output to be the same dimension as\n",
        "    # the target\n",
        "    output1 = self.fc1(input).squeeze()\n",
        "    if apply_sigmoid:\n",
        "      return F.sigmoid(output1)\n",
        "    return output1"
      ],
      "execution_count": null,
      "outputs": []
    },
    {
      "cell_type": "markdown",
      "metadata": {
        "id": "fTsyPlRTSh64",
        "colab_type": "text"
      },
      "source": [
        "### Training Loop"
      ]
    },
    {
      "cell_type": "code",
      "metadata": {
        "id": "bnjgpTrdSh2o",
        "colab_type": "code",
        "colab": {}
      },
      "source": [
        "training_losses = []\n",
        "val_losses = []\n",
        "test_losses = []"
      ],
      "execution_count": null,
      "outputs": []
    },
    {
      "cell_type": "code",
      "metadata": {
        "id": "5enaTtxiShwM",
        "colab_type": "code",
        "colab": {
          "base_uri": "https://localhost:8080/",
          "height": 935
        },
        "outputId": "94751906-e13c-4882-ce3a-d6e9f3ecb3ed"
      },
      "source": [
        "classifier = ReviewClassifier(train_dataset.X[0].size()[0])\n",
        "loss_func = nn.BCEWithLogitsLoss()\n",
        "optimizer = optim.Adam(classifier.parameters(),lr=0.005)\n",
        "scheduler = optim.lr_scheduler.StepLR(optimizer,step_size=20,\n",
        "                                      gamma=0.1)\n",
        "best_loss = 0\n",
        "model_file = 'drive/My Drive/yelp/yelp_model.pth'\n",
        "classifier.train()\n",
        "\n",
        "\n",
        "def get_accuracy(classifier,dataset):\n",
        "  prob = torch.sigmoid(classifier(dataset[:]['review']))\n",
        "  predictions = torch.where(prob>0.5,torch.tensor(1.0),torch.tensor(0.))\n",
        "  targets = dataset[:]['rating']\n",
        "  accuracy = sum(targets.eq(predictions))/float(len(targets))\n",
        "  return accuracy\n",
        "\n",
        "# 100 epochs through the training set\n",
        "for epoch in range(100):\n",
        "  \n",
        "  if epoch%10==0:\n",
        "    print(f'--------------------epoch {epoch:3d}--------------------')\n",
        "\n",
        "  #save a file at the beginning in case this is already the best model\n",
        "  if epoch ==0:\n",
        "    torch.save(classifier.state_dict(),model_file)\n",
        "  # loop through the batch\n",
        "  for i_batch,samples_batched in enumerate(train_loader):\n",
        "    optimizer.zero_grad()\n",
        "    output = classifier(samples_batched['review'])\n",
        "    loss = loss_func(output,samples_batched['rating'])\n",
        "    loss.backward()\n",
        "    optimizer.step()\n",
        "    if epoch==0:\n",
        "      best_loss=loss\n",
        "    if loss<best_loss:\n",
        "      torch.save(classifier.state_dict(),model_file)\n",
        "    if epoch%10==0:\n",
        "      if i_batch%10==0:\n",
        "        prob = torch.sigmoid(classifier(samples_batched['review']))\n",
        "        predictions = torch.where(prob>0.5,torch.tensor(1),torch.tensor(0))\n",
        "        targets = samples_batched['rating']\n",
        "        accuracy = sum(targets.eq(predictions))/float(len(targets))\n",
        "        print(f\"Batch {i_batch:3d} - loss {loss.item():.3f} - accuracy {accuracy:.3f}\")\n",
        "  scheduler.step()\n",
        "\n",
        "classifier.load_state_dict(torch.load(model_file))\n",
        "print('\\nTraining set accuracy: ',get_accuracy(classifier,train_dataset))\n",
        "print('Validation set accuracy: ',get_accuracy(classifier,val_dataset))\n",
        "print('Test set accuracy: ',get_accuracy(classifier,test_dataset))"
      ],
      "execution_count": null,
      "outputs": [
        {
          "output_type": "stream",
          "text": [
            "--------------------epoch   0--------------------\n",
            "Batch   0 - loss 0.694 - accuracy 0.537\n",
            "Batch  10 - loss 0.538 - accuracy 0.813\n",
            "Batch  20 - loss 0.451 - accuracy 0.854\n",
            "Batch  30 - loss 0.401 - accuracy 0.882\n",
            "--------------------epoch  10--------------------\n",
            "Batch   0 - loss 0.172 - accuracy 0.948\n",
            "Batch  10 - loss 0.150 - accuracy 0.955\n",
            "Batch  20 - loss 0.170 - accuracy 0.937\n",
            "Batch  30 - loss 0.158 - accuracy 0.952\n",
            "--------------------epoch  20--------------------\n",
            "Batch   0 - loss 0.141 - accuracy 0.949\n",
            "Batch  10 - loss 0.119 - accuracy 0.963\n",
            "Batch  20 - loss 0.121 - accuracy 0.958\n",
            "Batch  30 - loss 0.126 - accuracy 0.960\n",
            "--------------------epoch  30--------------------\n",
            "Batch   0 - loss 0.130 - accuracy 0.953\n",
            "Batch  10 - loss 0.128 - accuracy 0.957\n",
            "Batch  20 - loss 0.116 - accuracy 0.958\n",
            "Batch  30 - loss 0.131 - accuracy 0.954\n",
            "--------------------epoch  40--------------------\n",
            "Batch   0 - loss 0.106 - accuracy 0.972\n",
            "Batch  10 - loss 0.129 - accuracy 0.953\n",
            "Batch  20 - loss 0.122 - accuracy 0.955\n",
            "Batch  30 - loss 0.150 - accuracy 0.946\n",
            "--------------------epoch  50--------------------\n",
            "Batch   0 - loss 0.104 - accuracy 0.975\n",
            "Batch  10 - loss 0.129 - accuracy 0.952\n",
            "Batch  20 - loss 0.111 - accuracy 0.967\n",
            "Batch  30 - loss 0.113 - accuracy 0.964\n",
            "--------------------epoch  60--------------------\n",
            "Batch   0 - loss 0.106 - accuracy 0.972\n",
            "Batch  10 - loss 0.123 - accuracy 0.966\n",
            "Batch  20 - loss 0.123 - accuracy 0.954\n",
            "Batch  30 - loss 0.112 - accuracy 0.968\n",
            "--------------------epoch  70--------------------\n",
            "Batch   0 - loss 0.111 - accuracy 0.966\n",
            "Batch  10 - loss 0.117 - accuracy 0.961\n",
            "Batch  20 - loss 0.127 - accuracy 0.959\n",
            "Batch  30 - loss 0.115 - accuracy 0.963\n",
            "--------------------epoch  80--------------------\n",
            "Batch   0 - loss 0.120 - accuracy 0.967\n",
            "Batch  10 - loss 0.120 - accuracy 0.955\n",
            "Batch  20 - loss 0.107 - accuracy 0.970\n",
            "Batch  30 - loss 0.105 - accuracy 0.967\n",
            "--------------------epoch  90--------------------\n",
            "Batch   0 - loss 0.127 - accuracy 0.960\n",
            "Batch  10 - loss 0.115 - accuracy 0.965\n",
            "Batch  20 - loss 0.136 - accuracy 0.957\n",
            "Batch  30 - loss 0.116 - accuracy 0.966\n",
            "\n",
            "Training set accuracy:  tensor(0.9618)\n",
            "Validation set accuracy:  tensor(0.9186)\n",
            "Test set accuracy:  tensor(0.9152)\n"
          ],
          "name": "stdout"
        }
      ]
    },
    {
      "cell_type": "markdown",
      "metadata": {
        "id": "V-QGU_czsDJL",
        "colab_type": "text"
      },
      "source": [
        "# Training History:\n",
        "1. 0.9000 using best model, lr = 0.001 100 epochs\n",
        "2. 0.9132 using best model, lr = 0.005, LR decay by 10 times every 30 steps\n",
        "3. 0.9152 using best model, lr = 0.005, LR decay by 10 times every 20 steps\n"
      ]
    },
    {
      "cell_type": "markdown",
      "metadata": {
        "id": "2z6bklpWS8Zu",
        "colab_type": "text"
      },
      "source": [
        "# What I learned:\n",
        "\n",
        "1. Many epochs do help\n",
        "2. Saving the best model also helps"
      ]
    }
  ]
}