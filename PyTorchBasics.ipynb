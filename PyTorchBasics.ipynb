{
  "nbformat": 4,
  "nbformat_minor": 0,
  "metadata": {
    "colab": {
      "name": "PyTorchBasics.ipynb",
      "provenance": [],
      "collapsed_sections": [],
      "machine_shape": "hm",
      "include_colab_link": true
    },
    "kernelspec": {
      "name": "python3",
      "display_name": "Python 3"
    }
  },
  "cells": [
    {
      "cell_type": "markdown",
      "metadata": {
        "id": "view-in-github",
        "colab_type": "text"
      },
      "source": [
        "<a href=\"https://colab.research.google.com/github/JJnotJimmyJohn/NLPwithPyTorchBook/blob/master/PyTorchBasics.ipynb\" target=\"_parent\"><img src=\"https://colab.research.google.com/assets/colab-badge.svg\" alt=\"Open In Colab\"/></a>"
      ]
    },
    {
      "cell_type": "markdown",
      "metadata": {
        "id": "QNPyr97dBSEX",
        "colab_type": "text"
      },
      "source": [
        "# The Very Basics"
      ]
    },
    {
      "cell_type": "code",
      "metadata": {
        "id": "2rIfNVk-CC9d",
        "colab_type": "code",
        "colab": {}
      },
      "source": [
        "import torch\n",
        "import torch.nn as nn\n",
        "import numpy as np"
      ],
      "execution_count": null,
      "outputs": []
    },
    {
      "cell_type": "code",
      "metadata": {
        "id": "RHlmG7DlmOIm",
        "colab_type": "code",
        "colab": {
          "base_uri": "https://localhost:8080/",
          "height": 51
        },
        "outputId": "9c10e7cd-1031-4927-80ba-6520b85d05bd"
      },
      "source": [
        "# randomly initialize a tensor by specifying dimentions\n",
        "torch.Tensor(2,3)"
      ],
      "execution_count": null,
      "outputs": [
        {
          "output_type": "execute_result",
          "data": {
            "text/plain": [
              "tensor([[3.2857e-35, 0.0000e+00, 1.5975e-43],\n",
              "        [1.3873e-43, 1.4574e-43, 6.4460e-44]])"
            ]
          },
          "metadata": {
            "tags": []
          },
          "execution_count": 19
        }
      ]
    },
    {
      "cell_type": "code",
      "metadata": {
        "id": "uohI8W0wnlqi",
        "colab_type": "code",
        "colab": {
          "base_uri": "https://localhost:8080/",
          "height": 51
        },
        "outputId": "57e0de65-76f3-47b4-958e-806b38f4a4f2"
      },
      "source": [
        "# random number - uniform dist\n",
        "torch.rand(2,2)"
      ],
      "execution_count": null,
      "outputs": [
        {
          "output_type": "execute_result",
          "data": {
            "text/plain": [
              "tensor([[0.7899, 0.2560],\n",
              "        [0.2129, 0.0750]])"
            ]
          },
          "metadata": {
            "tags": []
          },
          "execution_count": 22
        }
      ]
    },
    {
      "cell_type": "code",
      "metadata": {
        "id": "RaZ65pvQntJg",
        "colab_type": "code",
        "colab": {
          "base_uri": "https://localhost:8080/",
          "height": 51
        },
        "outputId": "b50544f3-dd24-4980-9cde-fa746cdcd112"
      },
      "source": [
        "# random number - normal dist\n",
        "torch.randn(2,2)"
      ],
      "execution_count": null,
      "outputs": [
        {
          "output_type": "execute_result",
          "data": {
            "text/plain": [
              "tensor([[ 0.3919, -0.6420],\n",
              "        [-0.4853, -1.1380]])"
            ]
          },
          "metadata": {
            "tags": []
          },
          "execution_count": 23
        }
      ]
    },
    {
      "cell_type": "code",
      "metadata": {
        "id": "YVps3ZLAlQQh",
        "colab_type": "code",
        "colab": {
          "base_uri": "https://localhost:8080/",
          "height": 51
        },
        "outputId": "76e98a5b-12f4-433a-b65d-4faee229e14d"
      },
      "source": [
        "# create your own tensor from lists\n",
        "torch.Tensor([[1,2],\n",
        "              [3,4]])"
      ],
      "execution_count": null,
      "outputs": [
        {
          "output_type": "execute_result",
          "data": {
            "text/plain": [
              "tensor([[1., 2.],\n",
              "        [3., 4.]])"
            ]
          },
          "metadata": {
            "tags": []
          },
          "execution_count": 20
        }
      ]
    },
    {
      "cell_type": "code",
      "metadata": {
        "id": "Mwr4x0ItpC8T",
        "colab_type": "code",
        "colab": {
          "base_uri": "https://localhost:8080/",
          "height": 85
        },
        "outputId": "a6544320-c198-4760-b977-f2d0f5a94516"
      },
      "source": [
        "# create tensor from numpy\n",
        "np_tensor = np.random.randn(2,3)\n",
        "print(np_tensor)\n",
        "torch_tensor = torch.from_numpy(np_tensor)\n",
        "print(torch_tensor)"
      ],
      "execution_count": null,
      "outputs": [
        {
          "output_type": "stream",
          "text": [
            "[[ 2.10333892 -0.50491519 -0.08688658]\n",
            " [-0.80465778 -0.41060038 -0.47890138]]\n",
            "tensor([[ 2.1033, -0.5049, -0.0869],\n",
            "        [-0.8047, -0.4106, -0.4789]], dtype=torch.float64)\n"
          ],
          "name": "stdout"
        }
      ]
    },
    {
      "cell_type": "code",
      "metadata": {
        "id": "moBNWyt8rksS",
        "colab_type": "code",
        "colab": {
          "base_uri": "https://localhost:8080/",
          "height": 85
        },
        "outputId": "b76bb148-938b-4e90-d472-7cbce7183f40"
      },
      "source": [
        "# see how different they are in terms of dimensions\n",
        "print(torch_tensor.view(1,-1))\n",
        "print(torch_tensor.view(-1))"
      ],
      "execution_count": null,
      "outputs": [
        {
          "output_type": "stream",
          "text": [
            "tensor([[ 2.1033, -0.5049, -0.0869, -0.8047, -0.4106, -0.4789]],\n",
            "       dtype=torch.float64)\n",
            "tensor([ 2.1033, -0.5049, -0.0869, -0.8047, -0.4106, -0.4789],\n",
            "       dtype=torch.float64)\n"
          ],
          "name": "stdout"
        }
      ]
    },
    {
      "cell_type": "code",
      "metadata": {
        "id": "MCFao-PypCMM",
        "colab_type": "code",
        "colab": {
          "base_uri": "https://localhost:8080/",
          "height": 51
        },
        "outputId": "0fa5fa81-6474-47e6-855b-8ff9683f66cf"
      },
      "source": [
        "# tensor has operations along different dimensions\n",
        "print(torch_tensor.sum(0))\n",
        "print(torch_tensor.sum(1))"
      ],
      "execution_count": null,
      "outputs": [
        {
          "output_type": "stream",
          "text": [
            "tensor([ 1.2987, -0.9155, -0.5658], dtype=torch.float64)\n",
            "tensor([ 1.5115, -1.6942], dtype=torch.float64)\n"
          ],
          "name": "stdout"
        }
      ]
    },
    {
      "cell_type": "code",
      "metadata": {
        "id": "_wvQitAy8xqw",
        "colab_type": "code",
        "colab": {
          "base_uri": "https://localhost:8080/",
          "height": 204
        },
        "outputId": "3f35d04e-e5be-45ee-ccbe-828ed9c6d784"
      },
      "source": [
        "# squeeze\n",
        "print(torch.ones(0,2))\n",
        "print(torch.ones(2))\n",
        "print(torch.ones(1,2))\n",
        "print(torch.ones(2,1,2))\n",
        "print(torch.ones(2,1,2).squeeze())\n",
        "print((torch.ones(2,1,2).squeeze())==(torch.ones(2,2)))\n",
        "print(torch.equal(torch.ones(2,1,2).squeeze(),torch.ones(2,2)))"
      ],
      "execution_count": null,
      "outputs": [
        {
          "output_type": "stream",
          "text": [
            "tensor([], size=(0, 2))\n",
            "tensor([1., 1.])\n",
            "tensor([[1., 1.]])\n",
            "tensor([[[1., 1.]],\n",
            "\n",
            "        [[1., 1.]]])\n",
            "tensor([[1., 1.],\n",
            "        [1., 1.]])\n",
            "tensor([[True, True],\n",
            "        [True, True]])\n",
            "True\n"
          ],
          "name": "stdout"
        }
      ]
    },
    {
      "cell_type": "code",
      "metadata": {
        "id": "-ppItV6j8-db",
        "colab_type": "code",
        "colab": {
          "base_uri": "https://localhost:8080/",
          "height": 34
        },
        "outputId": "93ac261e-1a09-4d53-c9cb-adab2c23da8a"
      },
      "source": [
        "torch.ones(0,2)"
      ],
      "execution_count": null,
      "outputs": [
        {
          "output_type": "execute_result",
          "data": {
            "text/plain": [
              "tensor([], size=(0, 2))"
            ]
          },
          "metadata": {
            "tags": []
          },
          "execution_count": 6
        }
      ]
    },
    {
      "cell_type": "code",
      "metadata": {
        "id": "4WN5xwPlGhgx",
        "colab_type": "code",
        "colab": {
          "base_uri": "https://localhost:8080/",
          "height": 102
        },
        "outputId": "d94adbd0-8e5d-4ddf-b8bc-efef5d1c0099"
      },
      "source": [
        "x = torch.ones([5,6],requires_grad=True)\n",
        "x\n",
        "y = x+2\n",
        "y\n",
        "z = y*y*3\n",
        "z"
      ],
      "execution_count": null,
      "outputs": [
        {
          "output_type": "execute_result",
          "data": {
            "text/plain": [
              "tensor([[27., 27., 27., 27., 27., 27.],\n",
              "        [27., 27., 27., 27., 27., 27.],\n",
              "        [27., 27., 27., 27., 27., 27.],\n",
              "        [27., 27., 27., 27., 27., 27.],\n",
              "        [27., 27., 27., 27., 27., 27.]], grad_fn=<MulBackward0>)"
            ]
          },
          "metadata": {
            "tags": []
          },
          "execution_count": 70
        }
      ]
    },
    {
      "cell_type": "code",
      "metadata": {
        "id": "8lwnGrmKqPw1",
        "colab_type": "code",
        "colab": {
          "base_uri": "https://localhost:8080/",
          "height": 34
        },
        "outputId": "d0f2eb87-769a-4349-fbe6-bdf7b8648376"
      },
      "source": [
        "z.shape"
      ],
      "execution_count": null,
      "outputs": [
        {
          "output_type": "execute_result",
          "data": {
            "text/plain": [
              "torch.Size([5, 6])"
            ]
          },
          "metadata": {
            "tags": []
          },
          "execution_count": 71
        }
      ]
    },
    {
      "cell_type": "code",
      "metadata": {
        "id": "DsxcyXYbqRUV",
        "colab_type": "code",
        "colab": {
          "base_uri": "https://localhost:8080/",
          "height": 34
        },
        "outputId": "365d3048-6389-4fb3-f852-35b825817642"
      },
      "source": [
        "z.size()"
      ],
      "execution_count": null,
      "outputs": [
        {
          "output_type": "execute_result",
          "data": {
            "text/plain": [
              "torch.Size([5, 6])"
            ]
          },
          "metadata": {
            "tags": []
          },
          "execution_count": 72
        }
      ]
    },
    {
      "cell_type": "code",
      "metadata": {
        "id": "om6ZrtYmwyrV",
        "colab_type": "code",
        "colab": {}
      },
      "source": [
        "z.backward(torch.ones(5,6)*2)"
      ],
      "execution_count": null,
      "outputs": []
    },
    {
      "cell_type": "code",
      "metadata": {
        "id": "33Q0ZhTBHw-C",
        "colab_type": "code",
        "colab": {}
      },
      "source": [
        "z.backward(torch.tensor([[1.,2.],\n",
        "                         [2.,2.]]))"
      ],
      "execution_count": null,
      "outputs": []
    },
    {
      "cell_type": "code",
      "metadata": {
        "id": "tpXEBPxrIPpJ",
        "colab_type": "code",
        "colab": {
          "base_uri": "https://localhost:8080/",
          "height": 102
        },
        "outputId": "ac21e30c-dd65-486a-994e-3f95a3c2d850"
      },
      "source": [
        "x.grad"
      ],
      "execution_count": null,
      "outputs": [
        {
          "output_type": "execute_result",
          "data": {
            "text/plain": [
              "tensor([[36., 36., 36., 36., 36., 36.],\n",
              "        [36., 36., 36., 36., 36., 36.],\n",
              "        [36., 36., 36., 36., 36., 36.],\n",
              "        [36., 36., 36., 36., 36., 36.],\n",
              "        [36., 36., 36., 36., 36., 36.]])"
            ]
          },
          "metadata": {
            "tags": []
          },
          "execution_count": 74
        }
      ]
    },
    {
      "cell_type": "code",
      "metadata": {
        "id": "QRHHt9ZjIkeW",
        "colab_type": "code",
        "colab": {
          "base_uri": "https://localhost:8080/",
          "height": 51
        },
        "outputId": "88967af6-ab00-4ec0-9fa8-655e8af572f1"
      },
      "source": [
        "x"
      ],
      "execution_count": null,
      "outputs": [
        {
          "output_type": "execute_result",
          "data": {
            "text/plain": [
              "tensor([[1., 1.],\n",
              "        [1., 1.]], requires_grad=True)"
            ]
          },
          "metadata": {
            "tags": []
          },
          "execution_count": 49
        }
      ]
    },
    {
      "cell_type": "code",
      "metadata": {
        "id": "lRkwyg1Zli6E",
        "colab_type": "code",
        "colab": {
          "base_uri": "https://localhost:8080/",
          "height": 51
        },
        "outputId": "d00b31f6-3ab1-4684-ea00-8a395e7740fc"
      },
      "source": [
        "z"
      ],
      "execution_count": null,
      "outputs": [
        {
          "output_type": "execute_result",
          "data": {
            "text/plain": [
              "tensor([[27., 27.],\n",
              "        [27., 27.]], grad_fn=<MulBackward0>)"
            ]
          },
          "metadata": {
            "tags": []
          },
          "execution_count": 8
        }
      ]
    },
    {
      "cell_type": "code",
      "metadata": {
        "id": "kRgwKCWCJmws",
        "colab_type": "code",
        "colab": {}
      },
      "source": [
        "x = torch.randn(3, requires_grad=True)\n",
        "\n",
        "y = x * 2"
      ],
      "execution_count": null,
      "outputs": []
    },
    {
      "cell_type": "code",
      "metadata": {
        "id": "sVyhVFIyTiRA",
        "colab_type": "code",
        "colab": {
          "base_uri": "https://localhost:8080/",
          "height": 34
        },
        "outputId": "b1ca25b9-abdb-4f89-a61e-b018d21bc6b7"
      },
      "source": [
        "y.data.norm()"
      ],
      "execution_count": null,
      "outputs": [
        {
          "output_type": "execute_result",
          "data": {
            "text/plain": [
              "tensor(5.1892)"
            ]
          },
          "metadata": {
            "tags": []
          },
          "execution_count": 84
        }
      ]
    },
    {
      "cell_type": "code",
      "metadata": {
        "id": "fc6dKXrfTj6G",
        "colab_type": "code",
        "colab": {
          "base_uri": "https://localhost:8080/",
          "height": 34
        },
        "outputId": "25b3ba8d-04f5-42f7-d83b-c70899aefcb5"
      },
      "source": [
        "y=0\n",
        "for x in [-0.4022, -1.8039, -0.8658]:\n",
        "  x = x*x\n",
        "  y = y+x\n",
        "\n",
        "print(y)"
      ],
      "execution_count": null,
      "outputs": [
        {
          "output_type": "stream",
          "text": [
            "4.16542969\n"
          ],
          "name": "stdout"
        }
      ]
    }
  ]
}